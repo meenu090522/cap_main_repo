{
 "cells": [
  {
   "cell_type": "code",
   "execution_count": 1,
   "id": "a49338f5",
   "metadata": {},
   "outputs": [],
   "source": [
    "import pyspark\n",
    "from pyspark.sql import SparkSession\n",
    "    \n",
    "appname = 'capstone_project'\n",
    "#Create spark session\n",
    "spark = SparkSession.builder.appName(appname).enableHiveSupport().getOrCreate()"
   ]
  },
  {
   "cell_type": "code",
   "execution_count": 2,
   "id": "746e62fa",
   "metadata": {},
   "outputs": [
    {
     "data": {
      "text/html": [
       "<table border='1'>\n",
       "<tr><th>studentsid</th><th>courseid</th><th>examdate</th><th>attendedstatus</th><th>marks</th><th>result</th></tr>\n",
       "<tr><td>S0001</td><td>C0001</td><td>17 Feb 19</td><td>Attended</td><td>70</td><td>Qualified</td></tr>\n",
       "<tr><td>S0298</td><td>C0008</td><td>24 Feb 19</td><td>Attended</td><td>70</td><td>Qualified</td></tr>\n",
       "<tr><td>S0297</td><td>C0007</td><td>23 Feb 19</td><td>Absent</td><td>0</td><td>Not Qualified</td></tr>\n",
       "<tr><td>S0296</td><td>C0030</td><td>20 Feb 19</td><td>Attended</td><td>70</td><td>Qualified</td></tr>\n",
       "<tr><td>S0291</td><td>C0013</td><td>1 Mar 19</td><td>Attended</td><td>85</td><td>Qualified</td></tr>\n",
       "<tr><td>S0290</td><td>C0017</td><td>5 Mar 19</td><td>Absent</td><td>0</td><td>Not Qualified</td></tr>\n",
       "<tr><td>S0289</td><td>C0016</td><td>4 Mar 19</td><td>Absent</td><td>0</td><td>Not Qualified</td></tr>\n",
       "<tr><td>S0288</td><td>C0015</td><td>3 Mar 19</td><td>Absent</td><td>0</td><td>Not Qualified</td></tr>\n",
       "<tr><td>S0287</td><td>C0014</td><td>2 Mar 19</td><td>Absent</td><td>0</td><td>Not Qualified</td></tr>\n",
       "<tr><td>S0286</td><td>C0013</td><td>1 Mar 19</td><td>Attended</td><td>85</td><td>Qualified</td></tr>\n",
       "<tr><td>S0285</td><td>C0012</td><td>28 Feb 19</td><td>Attended</td><td>70</td><td>Qualified</td></tr>\n",
       "<tr><td>S0284</td><td>C0011</td><td>27 Feb 19</td><td>Absent</td><td>0</td><td>Not Qualified</td></tr>\n",
       "<tr><td>S0283</td><td>C0010</td><td>26 Feb 19</td><td>Absent</td><td>0</td><td>Not Qualified</td></tr>\n",
       "<tr><td>S0281</td><td>C0008</td><td>24 Feb 19</td><td>Attended</td><td>70</td><td>Qualified</td></tr>\n",
       "<tr><td>S0280</td><td>C0007</td><td>23 Feb 19</td><td>Absent</td><td>0</td><td>Not Qualified</td></tr>\n",
       "<tr><td>S0279</td><td>C0006</td><td>22 Feb 19</td><td>Absent</td><td>0</td><td>Not Qualified</td></tr>\n",
       "<tr><td>S0278</td><td>C0005</td><td>21 Feb 19</td><td>Absent</td><td>0</td><td>Not Qualified</td></tr>\n",
       "<tr><td>S0276</td><td>C0003</td><td>19 Feb 19</td><td>Attended</td><td>70</td><td>Qualified</td></tr>\n",
       "<tr><td>S0275</td><td>C0017</td><td>5 Mar 19</td><td>Absent</td><td>0</td><td>Not Qualified</td></tr>\n",
       "<tr><td>S0274</td><td>C0016</td><td>4 Mar 19</td><td>Absent</td><td>0</td><td>Not Qualified</td></tr>\n",
       "</table>\n",
       "only showing top 20 rows\n"
      ],
      "text/plain": [
       "+----------+--------+---------+--------------+-----+-------------+\n",
       "|studentsid|courseid| examdate|attendedstatus|marks|       result|\n",
       "+----------+--------+---------+--------------+-----+-------------+\n",
       "|     S0001|   C0001|17 Feb 19|      Attended|   70|    Qualified|\n",
       "|     S0298|   C0008|24 Feb 19|      Attended|   70|    Qualified|\n",
       "|     S0297|   C0007|23 Feb 19|        Absent|    0|Not Qualified|\n",
       "|     S0296|   C0030|20 Feb 19|      Attended|   70|    Qualified|\n",
       "|     S0291|   C0013| 1 Mar 19|      Attended|   85|    Qualified|\n",
       "|     S0290|   C0017| 5 Mar 19|        Absent|    0|Not Qualified|\n",
       "|     S0289|   C0016| 4 Mar 19|        Absent|    0|Not Qualified|\n",
       "|     S0288|   C0015| 3 Mar 19|        Absent|    0|Not Qualified|\n",
       "|     S0287|   C0014| 2 Mar 19|        Absent|    0|Not Qualified|\n",
       "|     S0286|   C0013| 1 Mar 19|      Attended|   85|    Qualified|\n",
       "|     S0285|   C0012|28 Feb 19|      Attended|   70|    Qualified|\n",
       "|     S0284|   C0011|27 Feb 19|        Absent|    0|Not Qualified|\n",
       "|     S0283|   C0010|26 Feb 19|        Absent|    0|Not Qualified|\n",
       "|     S0281|   C0008|24 Feb 19|      Attended|   70|    Qualified|\n",
       "|     S0280|   C0007|23 Feb 19|        Absent|    0|Not Qualified|\n",
       "|     S0279|   C0006|22 Feb 19|        Absent|    0|Not Qualified|\n",
       "|     S0278|   C0005|21 Feb 19|        Absent|    0|Not Qualified|\n",
       "|     S0276|   C0003|19 Feb 19|      Attended|   70|    Qualified|\n",
       "|     S0275|   C0017| 5 Mar 19|        Absent|    0|Not Qualified|\n",
       "|     S0274|   C0016| 4 Mar 19|        Absent|    0|Not Qualified|\n",
       "+----------+--------+---------+--------------+-----+-------------+\n",
       "only showing top 20 rows"
      ]
     },
     "execution_count": 2,
     "metadata": {},
     "output_type": "execute_result"
    }
   ],
   "source": [
    "StudentCourseCompletionStatus = spark.sql(\"SELECT * from meenu_cap.StudentCourseCompletionStatus;\")\n",
    "StudentCourseCompletionStatus"
   ]
  },
  {
   "cell_type": "code",
   "execution_count": 3,
   "id": "19b548f1",
   "metadata": {},
   "outputs": [
    {
     "data": {
      "text/html": [
       "<table border='1'>\n",
       "<tr><th>courseid</th><th>title</th><th>competency</th><th>complexity</th><th>coursetype</th></tr>\n",
       "<tr><td>C0001</td><td>Certificate in Cl...</td><td>Technical</td><td>Basic</td><td>Cloud</td></tr>\n",
       "<tr><td>C0002</td><td>Certificate in Vi...</td><td>Technical</td><td>Basic</td><td>Cloud</td></tr>\n",
       "<tr><td>C0003</td><td>&quot;Diploma in Infor...</td><td> Networking and C...</td><td>Security</td><td>Cloud</td></tr>\n",
       "<tr><td>C0004</td><td>BE (Hons) in CSE ...</td><td>Domain</td><td>Advanced</td><td>Cloud</td></tr>\n",
       "<tr><td>C0005</td><td>BTech in Computer...</td><td>Domain</td><td>Advanced</td><td>Cloud</td></tr>\n",
       "<tr><td>C0006</td><td>BTech in Computer...</td><td>Domain</td><td>Advanced</td><td>Cloud</td></tr>\n",
       "<tr><td>C0007</td><td>BCA with Microsof...</td><td>Security</td><td>Advanced</td><td>Cloud</td></tr>\n",
       "<tr><td>C0008</td><td>BTech in Informat...</td><td>Technical</td><td>Advanced</td><td>Cloud</td></tr>\n",
       "<tr><td>C0009</td><td>MCA with speciali...</td><td>Technical</td><td>Advanced</td><td>Cloud</td></tr>\n",
       "<tr><td>C0010</td><td>ME in Cloud Compu...</td><td>Technical</td><td>Basic</td><td>Cloud</td></tr>\n",
       "<tr><td>C0011</td><td>MTech Computer Sc...</td><td>Technical</td><td>Basic</td><td>Cloud</td></tr>\n",
       "<tr><td>C0012</td><td>Bachelor’s in Com...</td><td>Domain</td><td>Basic</td><td>Hardware and Netw...</td></tr>\n",
       "<tr><td>C0013</td><td>B.Sc in Hardware ...</td><td>Domain</td><td>Advanced</td><td>Hardware and Netw...</td></tr>\n",
       "<tr><td>C0014</td><td>BTech in IT and N...</td><td>Domain</td><td>Basic</td><td>Hardware and Netw...</td></tr>\n",
       "<tr><td>C0015</td><td>BS in Hardware an...</td><td>Domain</td><td>Basic</td><td>Hardware and Netw...</td></tr>\n",
       "<tr><td>C0016</td><td>BSc in Networking...</td><td>Domain</td><td>Basic</td><td>Hardware and Netw...</td></tr>\n",
       "<tr><td>C0017</td><td>M.Tech in Network...</td><td>Domain</td><td>Advanced</td><td>Hardware and Netw...</td></tr>\n",
       "<tr><td>C0018</td><td>M.Sc in Hardware ...</td><td>Domain</td><td>Advanced</td><td>Hardware and Netw...</td></tr>\n",
       "<tr><td>C0019</td><td>MSc in Wireless N...</td><td>Domain</td><td>Advanced</td><td>Hardware and Netw...</td></tr>\n",
       "<tr><td>C0020</td><td>Diploma in Comput...</td><td>Domain</td><td>Advanced</td><td>Hardware and Netw...</td></tr>\n",
       "</table>\n",
       "only showing top 20 rows\n"
      ],
      "text/plain": [
       "+--------+--------------------+--------------------+----------+--------------------+\n",
       "|courseid|               title|          competency|complexity|          coursetype|\n",
       "+--------+--------------------+--------------------+----------+--------------------+\n",
       "|   C0001|Certificate in Cl...|           Technical|     Basic|               Cloud|\n",
       "|   C0002|Certificate in Vi...|           Technical|     Basic|               Cloud|\n",
       "|   C0003|\"Diploma in Infor...| Networking and C...|  Security|               Cloud|\n",
       "|   C0004|BE (Hons) in CSE ...|              Domain|  Advanced|               Cloud|\n",
       "|   C0005|BTech in Computer...|              Domain|  Advanced|               Cloud|\n",
       "|   C0006|BTech in Computer...|              Domain|  Advanced|               Cloud|\n",
       "|   C0007|BCA with Microsof...|            Security|  Advanced|               Cloud|\n",
       "|   C0008|BTech in Informat...|           Technical|  Advanced|               Cloud|\n",
       "|   C0009|MCA with speciali...|           Technical|  Advanced|               Cloud|\n",
       "|   C0010|ME in Cloud Compu...|           Technical|     Basic|               Cloud|\n",
       "|   C0011|MTech Computer Sc...|           Technical|     Basic|               Cloud|\n",
       "|   C0012|Bachelor’s in Com...|              Domain|     Basic|Hardware and Netw...|\n",
       "|   C0013|B.Sc in Hardware ...|              Domain|  Advanced|Hardware and Netw...|\n",
       "|   C0014|BTech in IT and N...|              Domain|     Basic|Hardware and Netw...|\n",
       "|   C0015|BS in Hardware an...|              Domain|     Basic|Hardware and Netw...|\n",
       "|   C0016|BSc in Networking...|              Domain|     Basic|Hardware and Netw...|\n",
       "|   C0017|M.Tech in Network...|              Domain|  Advanced|Hardware and Netw...|\n",
       "|   C0018|M.Sc in Hardware ...|              Domain|  Advanced|Hardware and Netw...|\n",
       "|   C0019|MSc in Wireless N...|              Domain|  Advanced|Hardware and Netw...|\n",
       "|   C0020|Diploma in Comput...|              Domain|  Advanced|Hardware and Netw...|\n",
       "+--------+--------------------+--------------------+----------+--------------------+\n",
       "only showing top 20 rows"
      ]
     },
     "execution_count": 3,
     "metadata": {},
     "output_type": "execute_result"
    }
   ],
   "source": [
    "coursedetails = spark.sql(\"SELECT * from meenu_cap.coursedetails;\")\n",
    "coursedetails"
   ]
  },
  {
   "cell_type": "code",
   "execution_count": 4,
   "id": "8b3c86f0",
   "metadata": {},
   "outputs": [
    {
     "data": {
      "text/html": [
       "<table border='1'>\n",
       "<tr><th>result</th><th>count</th></tr>\n",
       "<tr><td>Not Qualified</td><td>149</td></tr>\n",
       "<tr><td>Qualified</td><td>151</td></tr>\n",
       "</table>\n"
      ],
      "text/plain": [
       "+-------------+-----+\n",
       "|       result|count|\n",
       "+-------------+-----+\n",
       "|Not Qualified|  149|\n",
       "|    Qualified|  151|\n",
       "+-------------+-----+"
      ]
     },
     "execution_count": 4,
     "metadata": {},
     "output_type": "execute_result"
    }
   ],
   "source": [
    "#0.\tFind the total number of students per result category\n",
    "s_res = StudentCourseCompletionStatus.groupBy(\"result\").count()\n",
    "s_res"
   ]
  },
  {
   "cell_type": "code",
   "execution_count": 5,
   "id": "68e6ab4e",
   "metadata": {},
   "outputs": [
    {
     "data": {
      "text/html": [
       "<table border='1'>\n",
       "<tr><th>studentsid</th><th>courseid</th><th>examdate</th><th>attendedstatus</th><th>marks</th><th>result</th></tr>\n",
       "<tr><td>S0297</td><td>C0007</td><td>23 Feb 19</td><td>Absent</td><td>0</td><td>Not Qualified</td></tr>\n",
       "<tr><td>S0290</td><td>C0017</td><td>5 Mar 19</td><td>Absent</td><td>0</td><td>Not Qualified</td></tr>\n",
       "<tr><td>S0289</td><td>C0016</td><td>4 Mar 19</td><td>Absent</td><td>0</td><td>Not Qualified</td></tr>\n",
       "<tr><td>S0288</td><td>C0015</td><td>3 Mar 19</td><td>Absent</td><td>0</td><td>Not Qualified</td></tr>\n",
       "<tr><td>S0287</td><td>C0014</td><td>2 Mar 19</td><td>Absent</td><td>0</td><td>Not Qualified</td></tr>\n",
       "<tr><td>S0284</td><td>C0011</td><td>27 Feb 19</td><td>Absent</td><td>0</td><td>Not Qualified</td></tr>\n",
       "<tr><td>S0283</td><td>C0010</td><td>26 Feb 19</td><td>Absent</td><td>0</td><td>Not Qualified</td></tr>\n",
       "<tr><td>S0280</td><td>C0007</td><td>23 Feb 19</td><td>Absent</td><td>0</td><td>Not Qualified</td></tr>\n",
       "<tr><td>S0279</td><td>C0006</td><td>22 Feb 19</td><td>Absent</td><td>0</td><td>Not Qualified</td></tr>\n",
       "<tr><td>S0278</td><td>C0005</td><td>21 Feb 19</td><td>Absent</td><td>0</td><td>Not Qualified</td></tr>\n",
       "<tr><td>S0275</td><td>C0017</td><td>5 Mar 19</td><td>Absent</td><td>0</td><td>Not Qualified</td></tr>\n",
       "<tr><td>S0274</td><td>C0016</td><td>4 Mar 19</td><td>Absent</td><td>0</td><td>Not Qualified</td></tr>\n",
       "<tr><td>S0273</td><td>C0015</td><td>3 Mar 19</td><td>Absent</td><td>0</td><td>Not Qualified</td></tr>\n",
       "<tr><td>S0272</td><td>C0014</td><td>2 Mar 19</td><td>Absent</td><td>0</td><td>Not Qualified</td></tr>\n",
       "<tr><td>S0269</td><td>C0011</td><td>27 Feb 19</td><td>Absent</td><td>0</td><td>Not Qualified</td></tr>\n",
       "<tr><td>S0268</td><td>C0010</td><td>26 Feb 19</td><td>Absent</td><td>0</td><td>Not Qualified</td></tr>\n",
       "<tr><td>S0265</td><td>C0007</td><td>23 Feb 19</td><td>Absent</td><td>0</td><td>Not Qualified</td></tr>\n",
       "<tr><td>S0264</td><td>C0006</td><td>22 Feb 19</td><td>Absent</td><td>0</td><td>Not Qualified</td></tr>\n",
       "<tr><td>S0263</td><td>C0005</td><td>21 Feb 19</td><td>Absent</td><td>0</td><td>Not Qualified</td></tr>\n",
       "<tr><td>S0260</td><td>C0002</td><td>18 Feb 19</td><td>Absent</td><td>0</td><td>Not Qualified</td></tr>\n",
       "</table>\n",
       "only showing top 20 rows\n"
      ],
      "text/plain": [
       "+----------+--------+---------+--------------+-----+-------------+\n",
       "|studentsid|courseid| examdate|attendedstatus|marks|       result|\n",
       "+----------+--------+---------+--------------+-----+-------------+\n",
       "|     S0297|   C0007|23 Feb 19|        Absent|    0|Not Qualified|\n",
       "|     S0290|   C0017| 5 Mar 19|        Absent|    0|Not Qualified|\n",
       "|     S0289|   C0016| 4 Mar 19|        Absent|    0|Not Qualified|\n",
       "|     S0288|   C0015| 3 Mar 19|        Absent|    0|Not Qualified|\n",
       "|     S0287|   C0014| 2 Mar 19|        Absent|    0|Not Qualified|\n",
       "|     S0284|   C0011|27 Feb 19|        Absent|    0|Not Qualified|\n",
       "|     S0283|   C0010|26 Feb 19|        Absent|    0|Not Qualified|\n",
       "|     S0280|   C0007|23 Feb 19|        Absent|    0|Not Qualified|\n",
       "|     S0279|   C0006|22 Feb 19|        Absent|    0|Not Qualified|\n",
       "|     S0278|   C0005|21 Feb 19|        Absent|    0|Not Qualified|\n",
       "|     S0275|   C0017| 5 Mar 19|        Absent|    0|Not Qualified|\n",
       "|     S0274|   C0016| 4 Mar 19|        Absent|    0|Not Qualified|\n",
       "|     S0273|   C0015| 3 Mar 19|        Absent|    0|Not Qualified|\n",
       "|     S0272|   C0014| 2 Mar 19|        Absent|    0|Not Qualified|\n",
       "|     S0269|   C0011|27 Feb 19|        Absent|    0|Not Qualified|\n",
       "|     S0268|   C0010|26 Feb 19|        Absent|    0|Not Qualified|\n",
       "|     S0265|   C0007|23 Feb 19|        Absent|    0|Not Qualified|\n",
       "|     S0264|   C0006|22 Feb 19|        Absent|    0|Not Qualified|\n",
       "|     S0263|   C0005|21 Feb 19|        Absent|    0|Not Qualified|\n",
       "|     S0260|   C0002|18 Feb 19|        Absent|    0|Not Qualified|\n",
       "+----------+--------+---------+--------------+-----+-------------+\n",
       "only showing top 20 rows"
      ]
     },
     "execution_count": 5,
     "metadata": {},
     "output_type": "execute_result"
    }
   ],
   "source": [
    "#1.\tFind the total number of students absent \n",
    "s_abs = StudentCourseCompletionStatus.where(StudentCourseCompletionStatus['attendedstatus']=='Absent')\n",
    "s_abs\n"
   ]
  },
  {
   "cell_type": "code",
   "execution_count": 6,
   "id": "3b50a980",
   "metadata": {},
   "outputs": [
    {
     "data": {
      "text/html": [
       "<table border='1'>\n",
       "<tr><th>max(marks)</th></tr>\n",
       "<tr><td>92</td></tr>\n",
       "</table>\n"
      ],
      "text/plain": [
       "+----------+\n",
       "|max(marks)|\n",
       "+----------+\n",
       "|        92|\n",
       "+----------+"
      ]
     },
     "execution_count": 6,
     "metadata": {},
     "output_type": "execute_result"
    }
   ],
   "source": [
    "#2.\tFind the maximum, minimum and average marks scored by students\n",
    "s_max = StudentCourseCompletionStatus.agg({'marks': 'max'})\n",
    "s_max"
   ]
  },
  {
   "cell_type": "code",
   "execution_count": 7,
   "id": "aefce9da",
   "metadata": {},
   "outputs": [
    {
     "data": {
      "text/html": [
       "<table border='1'>\n",
       "<tr><th>min(marks)</th></tr>\n",
       "<tr><td>0</td></tr>\n",
       "</table>\n"
      ],
      "text/plain": [
       "+----------+\n",
       "|min(marks)|\n",
       "+----------+\n",
       "|         0|\n",
       "+----------+"
      ]
     },
     "execution_count": 7,
     "metadata": {},
     "output_type": "execute_result"
    }
   ],
   "source": [
    "#2.\tFind the maximum, minimum and average marks scored by students\n",
    "s_min = StudentCourseCompletionStatus.agg({'marks': 'min'})\n",
    "s_min"
   ]
  },
  {
   "cell_type": "code",
   "execution_count": 8,
   "id": "766b0421",
   "metadata": {},
   "outputs": [
    {
     "data": {
      "text/html": [
       "<table border='1'>\n",
       "<tr><th>avg(marks)</th></tr>\n",
       "<tr><td>40.013333333333335</td></tr>\n",
       "</table>\n"
      ],
      "text/plain": [
       "+------------------+\n",
       "|        avg(marks)|\n",
       "+------------------+\n",
       "|40.013333333333335|\n",
       "+------------------+"
      ]
     },
     "execution_count": 8,
     "metadata": {},
     "output_type": "execute_result"
    }
   ],
   "source": [
    "#2.\tFind the maximum, minimum and average marks scored by students\n",
    "s_avg = StudentCourseCompletionStatus.agg({'marks': 'avg'})\n",
    "s_avg"
   ]
  }
 ],
 "metadata": {
  "kernelspec": {
   "display_name": "Pyspark 3",
   "language": "python",
   "name": "pyspark3"
  },
  "language_info": {
   "codemirror_mode": {
    "name": "ipython",
    "version": 3
   },
   "file_extension": ".py",
   "mimetype": "text/x-python",
   "name": "python",
   "nbconvert_exporter": "python",
   "pygments_lexer": "ipython3",
   "version": "3.6.12"
  }
 },
 "nbformat": 4,
 "nbformat_minor": 5
}
